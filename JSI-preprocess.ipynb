{
 "cells": [
  {
   "cell_type": "markdown",
   "metadata": {},
   "source": [
    "# Preprocessing\n",
    "This notebook contains an example code for preprocessing raw acceleration data.\n",
    "It contains takes as input raw 3 axias acceleration signal, and outputs a file with extracted features.\n",
    "It uses overlapping sliding window for segmentataion (2 s with 1 s overlap).\n",
    "\n",
    "The features are extracted in the following order for each of the axes (X, Y, Z) and for the length of the acceleration vector:\n",
    " - mean, standard deviation, energy, median, root mean square, integral,  kurtosis, skewness\n",
    "\n",
    "The format is the following:\n",
    "[timestamp, AccX_mean, AccX_std, AccX_energy, AccX_median, AccX_rms, AccX_integral, ..., Activity]\n"
   ]
  },
  {
   "cell_type": "code",
   "execution_count": 7,
   "metadata": {
    "collapsed": true
   },
   "outputs": [],
   "source": [
    "import numpy as np\n",
    "import scipy\n",
    "import scipy.stats\n",
    "filename = 'raw_data_example.txt'"
   ]
  },
  {
   "cell_type": "markdown",
   "metadata": {},
   "source": [
    "First we iterate the file and find all of the activities. In this example data there is ony 1 activity: lying_back"
   ]
  },
  {
   "cell_type": "code",
   "execution_count": 8,
   "metadata": {
    "collapsed": false
   },
   "outputs": [
    {
     "data": {
      "text/plain": [
       "{'lying_back': 0}"
      ]
     },
     "execution_count": 8,
     "metadata": {},
     "output_type": "execute_result"
    }
   ],
   "source": [
    "labels = []\n",
    "labels2 = []\n",
    "old = \"\"\n",
    "with open(filename) as f:\n",
    "    for line in f:\n",
    "        line_acc = []\n",
    "        if \"B3BB\" not in line:\n",
    "            continue              \n",
    "        if not int(line[0]) == 1:\n",
    "            continue\n",
    "        line = line.split(\",\")        \n",
    "        if str(line[3]) == \"Lying\":\n",
    "            continue      \n",
    "        labels.append(line[5])\n",
    "        l = line[5]\n",
    "myset = set(labels)\n",
    "#print \"Labels: \" + str(myset)\n",
    "activities_set = list(myset)\n",
    "dict_activity = dict(zip(activities_set, np.arange(len(activities_set))))  # {1:0, 2:1, 6:2, 32:3}\n",
    "dict_activity"
   ]
  },
  {
   "cell_type": "markdown",
   "metadata": {},
   "source": [
    "The following code:\n",
    "    - reads the data\n",
    "    - segments it\n",
    "    - extract the features\n",
    "    - saves it into a file"
   ]
  },
  {
   "cell_type": "code",
   "execution_count": 10,
   "metadata": {
    "collapsed": false
   },
   "outputs": [
    {
     "name": "stdout",
     "output_type": "stream",
     "text": [
      "raw_data_example.txt\n",
      "165\n"
     ]
    }
   ],
   "source": [
    "index2 = 0\n",
    "index2+=1\n",
    "print filename\n",
    "data_timestamp = []\n",
    "data_module = []\n",
    "with open(filename) as f:\n",
    "    i = 0\n",
    "    for line in f:\n",
    "        line_acc = []\n",
    "        if \"B3BB\" not in line:\n",
    "            continue\n",
    "        if not int(line[0]) == 1:\n",
    "            continue\n",
    "        line = line.split(\",\")\n",
    "        line_acc = [float(line[7]),float(line[8]),float(line[9]), int(dict_activity[line[5]])]\n",
    "        line_acc = np.array(line_acc)\n",
    "        line_acc = np.insert(line_acc, 0, i)\n",
    "        line_acc.astype(float)            \n",
    "\n",
    "        data_timestamp.append(line_acc)\n",
    "        data_module.append(np.sqrt(line_acc[1]* line_acc[1] + line_acc[2]* line_acc[2] + line_acc[3]* line_acc[3]) )\n",
    "        i+=1\n",
    "\n",
    "data_timestamp = np.array(data_timestamp)\n",
    "\n",
    "#EXTRACT THE WRIST DATA\n",
    "columns_wrist = [0, 1, 2, 3]\n",
    "data_Acc_lWrist = data_timestamp[:, columns_wrist]\n",
    "data_Acc_lWrist = np.column_stack((data_timestamp[:, columns_wrist], np.array(data_module).T, data_timestamp[:, -1]))\n",
    "\n",
    "labels = data_timestamp[:,-1]\n",
    "myset = set(labels)\n",
    "\n",
    "unique, counts = np.unique(labels, return_counts=True)\n",
    "data_filtered_activities = data_Acc_lWrist[:]\n",
    "\n",
    "#Segment the data... overlapping window\n",
    "w_size = 100\n",
    "overlap = 50\n",
    "advancing = w_size - overlap\n",
    "\n",
    "data_segmented = []\n",
    "data_window = []\n",
    "current_time = firts_time =data_filtered_activities[0][0]\n",
    "\n",
    "for data_sample in data_filtered_activities:   \n",
    "    if len(data_window) < w_size:\n",
    "        data_window.append(data_sample.tolist())\n",
    "    else:\n",
    "        data_segmented.append(np.array(data_window))        \n",
    "        data_window = data_window[advancing:]\n",
    "        data_window.append(data_sample.tolist())        \n",
    "#print len(data_segmented)\n",
    "\n",
    "#Extract features\n",
    "#[timestamp, feature1, feature2, ... , label]\n",
    "data_features = []\n",
    "\n",
    "for i, segment in enumerate(data_segmented):\n",
    "    feature_vector = [i]\n",
    "    for index, column in enumerate(segment.T):        \n",
    "        if not (index == 0 or index == 1 or index == (len(segment.T)-1)):\n",
    "            mean = np.mean(column)\n",
    "            std = np.std(column)\n",
    "            median = np.median(column)\n",
    "            rms = np.sqrt(np.mean(np.square(column)))\n",
    "            integral = np.trapz(column)\n",
    "            #zero_crossing = ((column[:-1] * column[1:]) < 0).sum()\n",
    "            energy = np.sum(column ** 2) / np.float64(len(column))\n",
    "            kurtosis = scipy.stats.kurtosis(column)\n",
    "            skewness = scipy.stats.skew(column)\n",
    "\n",
    "            #feature_vector.extend([mean, std, energy])\n",
    "            feature_vector.extend([mean, std, energy, median, rms, integral, kurtosis,skewness ])\n",
    "    label = column[0]\n",
    "    feature_vector.extend([label])\n",
    "    data_features.append(feature_vector)\n",
    "\n",
    "#np.savetxt('_data_JSI/data_features_null_overlap.csv', data_features, delimiter='\\t', fmt='%5.6f') \n",
    "np.savetxt('data_features_example_'+ str(index2) +'.csv', data_features, delimiter=';', fmt='%5.6f') \n",
    "print len (data_features)"
   ]
  },
  {
   "cell_type": "code",
   "execution_count": null,
   "metadata": {
    "collapsed": true
   },
   "outputs": [],
   "source": []
  }
 ],
 "metadata": {
  "anaconda-cloud": {},
  "kernelspec": {
   "display_name": "Python [conda env:py27]",
   "language": "python",
   "name": "conda-env-py27-py"
  },
  "language_info": {
   "codemirror_mode": {
    "name": "ipython",
    "version": 2
   },
   "file_extension": ".py",
   "mimetype": "text/x-python",
   "name": "python",
   "nbconvert_exporter": "python",
   "pygments_lexer": "ipython2",
   "version": "2.7.12"
  }
 },
 "nbformat": 4,
 "nbformat_minor": 1
}
